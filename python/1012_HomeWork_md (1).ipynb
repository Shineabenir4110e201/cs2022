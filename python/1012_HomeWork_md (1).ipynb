{
  "nbformat": 4,
  "nbformat_minor": 0,
  "metadata": {
    "colab": {
      "provenance": []
    },
    "kernelspec": {
      "name": "python3",
      "display_name": "Python 3"
    },
    "language_info": {
      "name": "python"
    }
  },
  "cells": [
    {
      "cell_type": "markdown",
      "source": [
        "# **1012_HOMEWORK**"
      ],
      "metadata": {
        "id": "TSgvazKXPXc-"
      }
    },
    {
      "cell_type": "markdown",
      "source": [
        "# **https://www.w3schools.com/python/python_lists_access.asp**"
      ],
      "metadata": {
        "id": "LIKJiPW6PYf8"
      }
    },
    {
      "cell_type": "markdown",
      "source": [
        "Access List Items\n",
        "\n",
        "Negative Indexing\n",
        "\n",
        "Range of Indexes\n",
        "\n",
        "Range of Negative Indexes\n",
        "\n",
        "Check if Item Exists"
      ],
      "metadata": {
        "id": "Pmqtr7rGPdND"
      }
    },
    {
      "cell_type": "markdown",
      "source": [
        "# **https://www.w3schools.com/python/python_lists_change.asp**"
      ],
      "metadata": {
        "id": "itJdrY2JPe_0"
      }
    },
    {
      "cell_type": "markdown",
      "source": [
        "Change Item Value\n",
        "\n",
        "Change a Range of Item Values"
      ],
      "metadata": {
        "id": "tFSuGcU8PhqL"
      }
    },
    {
      "cell_type": "markdown",
      "source": [
        "# **https://www.w3schools.com/python/python_lists_add.asp**"
      ],
      "metadata": {
        "id": "LKk3LM1JPk4W"
      }
    },
    {
      "cell_type": "markdown",
      "source": [
        "Append Items\n",
        "\n",
        "Insert Items\n",
        "\n",
        "Extend List\n",
        "\n",
        "Add Any Iterable"
      ],
      "metadata": {
        "id": "1j7xnAfcPn7b"
      }
    },
    {
      "cell_type": "markdown",
      "source": [
        "# **https://www.w3schools.com/python/python_lists_remove.asp**"
      ],
      "metadata": {
        "id": "iDH-LLKxPuAb"
      }
    },
    {
      "cell_type": "markdown",
      "source": [
        "Remove Specified Item\n",
        "\n",
        "Remove Specified Index\n",
        "\n",
        "Clear The List"
      ],
      "metadata": {
        "id": "ezu0qp1hPxN7"
      }
    },
    {
      "cell_type": "markdown",
      "source": [
        "# **https://www.w3schools.com/python/python_lists_sort.asp**"
      ],
      "metadata": {
        "id": "C1g1fiFUP0Wk"
      }
    },
    {
      "cell_type": "markdown",
      "source": [
        "Copy a List"
      ],
      "metadata": {
        "id": "RhMkESBWP5nL"
      }
    },
    {
      "cell_type": "markdown",
      "source": [
        "# **https://www.w3schools.com/python/python_lists_join.asp**"
      ],
      "metadata": {
        "id": "iDj-DRj7P7Y7"
      }
    },
    {
      "cell_type": "markdown",
      "source": [
        "Join Two Lists"
      ],
      "metadata": {
        "id": "C4pAv76GP9_L"
      }
    },
    {
      "cell_type": "markdown",
      "source": [
        "# **https://www.w3schools.com/python/ref_list_reverse.asp0**"
      ],
      "metadata": {
        "id": "ccF1jsx6P_5c"
      }
    },
    {
      "cell_type": "markdown",
      "source": [
        "Python List reverse() Method"
      ],
      "metadata": {
        "id": "dRv0SuHDQDZz"
      }
    }
  ]
}