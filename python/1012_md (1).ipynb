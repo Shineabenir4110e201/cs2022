{
  "nbformat": 4,
  "nbformat_minor": 0,
  "metadata": {
    "colab": {
      "provenance": []
    },
    "kernelspec": {
      "name": "python3",
      "display_name": "Python 3"
    },
    "language_info": {
      "name": "python"
    }
  },
  "cells": [
    {
      "cell_type": "markdown",
      "source": [
        "# **1012 Learning Python**"
      ],
      "metadata": {
        "id": "7ekq2dV4Qi0k"
      }
    },
    {
      "cell_type": "markdown",
      "source": [
        "Python Tutorial - W3Schools\n",
        "\n",
        "Python Tutorial - Tutorialspoint\n",
        "\n",
        "HappyPythonDay"
      ],
      "metadata": {
        "id": "RNFbJ_QUQj8U"
      }
    },
    {
      "cell_type": "markdown",
      "source": [
        "**1012:Python Data Type**"
      ],
      "metadata": {
        "id": "B30xOeGbQmuT"
      }
    },
    {
      "cell_type": "markdown",
      "source": [
        "Basic List Operations"
      ],
      "metadata": {
        "id": "3YwgpP1iQqKM"
      }
    },
    {
      "cell_type": "markdown",
      "source": [
        "# **Python - Access List Items**"
      ],
      "metadata": {
        "id": "1vCCfhAmQryD"
      }
    },
    {
      "cell_type": "markdown",
      "source": [
        "Python Lists\n",
        "\n",
        "Access List Items"
      ],
      "metadata": {
        "id": "4wTjNjMgQuWj"
      }
    },
    {
      "cell_type": "markdown",
      "source": [
        "List items are indexed and you can access them by referring to the index number:"
      ],
      "metadata": {
        "id": "qOV3ipJxQy1D"
      }
    },
    {
      "cell_type": "markdown",
      "source": [
        "Note: The first item has index 0."
      ],
      "metadata": {
        "id": "z1Nz8g_zQ2jT"
      }
    },
    {
      "cell_type": "code",
      "source": [
        "thislist = [\"canada\", \"taiwan\", \"korea\"]\n",
        "print(thislist[1])"
      ],
      "metadata": {
        "id": "P1Ht2GLjQ47q"
      },
      "execution_count": null,
      "outputs": []
    },
    {
      "cell_type": "markdown",
      "source": [
        "**Negative Indexing**"
      ],
      "metadata": {
        "id": "ykx4rBd3Roz9"
      }
    },
    {
      "cell_type": "markdown",
      "source": [
        "Negative indexing means start from the end"
      ],
      "metadata": {
        "id": "fpr8NuweRqPL"
      }
    },
    {
      "cell_type": "markdown",
      "source": [
        "-1 refers to the last item, -2 refers to the second last item etc."
      ],
      "metadata": {
        "id": "vXJouKfVRrrb"
      }
    },
    {
      "cell_type": "code",
      "source": [
        "* Print the last item of the list:\n",
        "\n",
        "\n",
        "thislist = [\"canada\", \"taiwan\", \"korea\"]\n",
        "print(thislist[-1])"
      ],
      "metadata": {
        "id": "pS0sscNTRvxN"
      },
      "execution_count": null,
      "outputs": []
    },
    {
      "cell_type": "markdown",
      "source": [
        "**Range of Indexes**"
      ],
      "metadata": {
        "id": "bpUuIUY8R1tz"
      }
    },
    {
      "cell_type": "markdown",
      "source": [
        "You can specify a range of indexes by specifying where to start and where to end the range.\n",
        "\n",
        "When specifying a range, the return value will be a new list with the specified items.\n",
        "\n",
        "Note: The search will start at index 2 (included) and end at index 5 (not included).\n",
        "\n",
        "Remember that the first item has index 0."
      ],
      "metadata": {
        "id": "B4V4fASZR217"
      }
    },
    {
      "cell_type": "code",
      "source": [
        "* Return the third, fourth, and fifth item:\n",
        "\n",
        "\n",
        "thislist = [\"canada\", \"taiwan\", \"korea\", \"japan\", \"dubai\", \"philippines\", \"india\"]\n",
        "print(thislist[2:5])\n",
        "\n",
        "#This will return the items from position 2 to 5.\n",
        "\n",
        "#Remember that the first item is position 0,\n",
        "#and note that the item in position 5 is NOT included"
      ],
      "metadata": {
        "id": "QgSj7qneR6J1"
      },
      "execution_count": null,
      "outputs": []
    },
    {
      "cell_type": "markdown",
      "source": [
        "By leaving out the start value, the range will start at the first item:"
      ],
      "metadata": {
        "id": "pEQiD9QrSf77"
      }
    },
    {
      "cell_type": "code",
      "source": [
        "* This example returns the items from the beginning to, but NOT including, \"dubai\":\n",
        "\n",
        "\n",
        "thislist = [\"canada\", \"taiwan\", \"korea\", \"japan\", \"dubai\", \"philippines\", \"india\"]\n",
        "print(thislist[:4])\n",
        "\n",
        "#This will return the items from index 0 to index 4.\n",
        "\n",
        "#Remember that index 0 is the first item, and index 4 is the fifth item\n",
        "#Remember that the item in index 4 is NOT included"
      ],
      "metadata": {
        "id": "-wY92BW_SjRC"
      },
      "execution_count": null,
      "outputs": []
    },
    {
      "cell_type": "markdown",
      "source": [
        "By leaving out the end value, the range will go on to the end of the list:"
      ],
      "metadata": {
        "id": "D4K_CU6fStLS"
      }
    },
    {
      "cell_type": "code",
      "source": [
        "* This example returns the items from \"korea\" to the end:\n",
        "\n",
        "\n",
        "thislist = [\"canada\", \"taiwan\", \"korea\", \"japan\", \"dubai\", \"philippines\", \"india\"]\n",
        "print(thislist[2:])\n",
        "\n",
        "#This will return the items from index 2 to the end.\n",
        "\n",
        "#Remember that index 0 is the first item, and index 2 is the third"
      ],
      "metadata": {
        "id": "9_dnKApkStmE"
      },
      "execution_count": null,
      "outputs": []
    },
    {
      "cell_type": "markdown",
      "source": [
        "**Range of Negative Indexes**"
      ],
      "metadata": {
        "id": "rFMLdDYlS2ZF"
      }
    },
    {
      "cell_type": "markdown",
      "source": [
        "Specify negative indexes if you want to start the search from the end of the list:"
      ],
      "metadata": {
        "id": "YyQLg2TDS3Yz"
      }
    },
    {
      "cell_type": "code",
      "source": [
        "* This example returns the items from \"taiwan\" (-4) to, but NOT including \"india\" (-1):\n",
        "\n",
        "\n",
        "thislist = [\"canada\", \"taiwan\", \"korea\", \"japan\", \"dubai\", \"philippines\", \"india\"]\n",
        "print(thislist[-4:-1])\n",
        "\n",
        "#Negative indexing means starting from the end of the list.\n",
        "\n",
        "#This example returns the items from index -4 (included) to index -1 (excluded)\n",
        "\n",
        "#Remember that the last item has the index -1,"
      ],
      "metadata": {
        "id": "L7ywtKhTS7us"
      },
      "execution_count": null,
      "outputs": []
    },
    {
      "cell_type": "markdown",
      "source": [
        "Check if Item Exists To determine if a specified item is present in a list use the in keyword:"
      ],
      "metadata": {
        "id": "wMhQYzDGTGgj"
      }
    },
    {
      "cell_type": "code",
      "source": [
        "* Check if \"thailand\" is present in the list:\n",
        "\n",
        "\n",
        "thislist = [\"canada\", \"taiwan\", \"korea\"]\n",
        "if \"canada\" in thislist:\n",
        "  print(\"Yes, 'canada' is in the country list\")"
      ],
      "metadata": {
        "id": "1ykr0gDkTHEy"
      },
      "execution_count": null,
      "outputs": []
    },
    {
      "cell_type": "markdown",
      "source": [
        "# **Python - Change List Items**"
      ],
      "metadata": {
        "id": "DhKcKUqlTU0j"
      }
    },
    {
      "cell_type": "markdown",
      "source": [
        "Change Item Value\n",
        "\n",
        "To change the value of a specific item, refer to the index number:"
      ],
      "metadata": {
        "id": "IGWrZmZlTWM8"
      }
    },
    {
      "cell_type": "code",
      "source": [
        "* Change the second item:\n",
        "\n",
        "\n",
        "thislist = [\"canada\", \"taiwan\", \"korea\"]\n",
        "thislist[1] = \"philippines\"\n",
        "\n",
        "print(thislist)"
      ],
      "metadata": {
        "id": "T2X4rykBTYL7"
      },
      "execution_count": null,
      "outputs": []
    },
    {
      "cell_type": "markdown",
      "source": [
        "**Change a Range of Item Values**"
      ],
      "metadata": {
        "id": "0gQt7S-mTiZZ"
      }
    },
    {
      "cell_type": "markdown",
      "source": [
        "To change the value of items within a specific range, define a list with the new values, and refer to the range of index numbers where you want to insert the new values:"
      ],
      "metadata": {
        "id": "Wn1cj4xOTjLZ"
      }
    },
    {
      "cell_type": "code",
      "source": [
        "* Change the values \"taiwan\" and \"korea\" with the values \"philippines\" and \"india\":\n",
        "\n",
        "\n",
        "thislist = [\"canada\", \"taiwan\", \"korea\", \"japan\", \"dubai\", \"philippines\", \"india\"]\n",
        "\n",
        "thislist[1:3] = [ \"philippines\", \"india\"]\n",
        "\n",
        "print(thislist)"
      ],
      "metadata": {
        "id": "txrUe4UeTlC6"
      },
      "execution_count": null,
      "outputs": []
    },
    {
      "cell_type": "markdown",
      "source": [
        "If you insert more items than you replace, the new items will be inserted where you specified, and the remaining items will move accordingly:"
      ],
      "metadata": {
        "id": "MedhXzFjT4Vs"
      }
    },
    {
      "cell_type": "code",
      "source": [
        "* Change the second value by replacing it with two new values:\n",
        "\n",
        "\n",
        "thislist = [\"canada\", \"taiwan\", \"korea\"]\n",
        "\n",
        "thislist[1:2] = [ \"philippines\", \"india\"]\n",
        "\n",
        "print(thislist)"
      ],
      "metadata": {
        "id": "3IRm9gwmT7hy"
      },
      "execution_count": null,
      "outputs": []
    },
    {
      "cell_type": "markdown",
      "source": [
        "Note: The length of the list will change when the number of items inserted does not match the number of items replaced.\n",
        "\n",
        "if you insert less items than you replace, the new items will be inserted where you specified, and the remaining items will move accordingly:"
      ],
      "metadata": {
        "id": "_gt2U7vKUBUs"
      }
    },
    {
      "cell_type": "code",
      "source": [
        "* Change the second and third value by replacing it with one value:\n",
        "\n",
        "\n",
        "thislist = [\"canada\", \"taiwan\", \"korea\"]\n",
        "\n",
        "thislist[1:3] = [\"india\"]\n",
        "\n",
        "print(thislist)"
      ],
      "metadata": {
        "id": "QyJ4l4D8ULwy"
      },
      "execution_count": null,
      "outputs": []
    },
    {
      "cell_type": "markdown",
      "source": [
        "**Insert Items**"
      ],
      "metadata": {
        "id": "YPOGiBKlUR1y"
      }
    },
    {
      "cell_type": "markdown",
      "source": [
        "To insert a new list item, without replacing any of the existing values, we can use the insert() method. The insert() method inserts an item at the specified index:"
      ],
      "metadata": {
        "id": "1rufnwKKUVBa"
      }
    },
    {
      "cell_type": "code",
      "source": [
        "* Insert \"america\" as the third item:\n",
        "\n",
        "\n",
        "thislist = [\"canada\", \"taiwan\", \"korea\"]\n",
        "\n",
        "thislist.insert(2, \"philippines\")\n",
        "\n",
        "print(thislist)"
      ],
      "metadata": {
        "id": "IVwErIFUUW6D"
      },
      "execution_count": null,
      "outputs": []
    },
    {
      "cell_type": "markdown",
      "source": [
        "Note: As a result of the example above, the list will now contain 4 items."
      ],
      "metadata": {
        "id": "r29trHC7U4p8"
      }
    },
    {
      "cell_type": "markdown",
      "source": [
        "# **Python - Add List Items**"
      ],
      "metadata": {
        "id": "ZS0Vnp2mU5OC"
      }
    },
    {
      "cell_type": "markdown",
      "source": [
        "**Append Items**"
      ],
      "metadata": {
        "id": "3ukR78aOU75L"
      }
    },
    {
      "cell_type": "markdown",
      "source": [
        "To add an item to the end of the list, use the append() method:"
      ],
      "metadata": {
        "id": "5SEXvaMGU97S"
      }
    },
    {
      "cell_type": "code",
      "source": [
        "* Using the append() method to append an item:\n",
        "\n",
        "\n",
        "thislist = [\"canada\", \"taiwan\", \"korea\"]\n",
        "\n",
        "thislist.append(\"japan\")\n",
        "\n",
        "print(thislist)"
      ],
      "metadata": {
        "id": "LhSipzaAVBXS"
      },
      "execution_count": null,
      "outputs": []
    },
    {
      "cell_type": "markdown",
      "source": [
        "**Insert Items**"
      ],
      "metadata": {
        "id": "F2nT1hfIVKHj"
      }
    },
    {
      "cell_type": "markdown",
      "source": [
        "To insert a list item at a specified index, use the insert() method.\n",
        "\n",
        "The insert() method inserts an item at the specified index:\n",
        "\n",
        "Note: As a result of the examples above, the lists will now contain 4 items."
      ],
      "metadata": {
        "id": "6HazOHqkVLBr"
      }
    },
    {
      "cell_type": "code",
      "source": [
        "* Insert an item as the second position:\n",
        "\n",
        "\n",
        "thislist = [\"canada\", \"taiwan\", \"korea\"]\n",
        "thislist.insert(1, \"japan\")\n",
        "print(thislist"
      ],
      "metadata": {
        "id": "8-yJzXulVN4R"
      },
      "execution_count": null,
      "outputs": []
    },
    {
      "cell_type": "markdown",
      "source": [
        "**Extend List**"
      ],
      "metadata": {
        "id": "p63ojci1VTnS"
      }
    },
    {
      "cell_type": "markdown",
      "source": [
        "To append elements from another list to the current list, use the extend() method."
      ],
      "metadata": {
        "id": "T_hUoG9xVWXy"
      }
    },
    {
      "cell_type": "code",
      "source": [
        "* Add the elements of colors to thislist:\n",
        "\n",
        "\n",
        "thislist = [\"canada\", \"taiwan\", \"korea\"]\n",
        "colors = [\"japan\", \"dubai\", \"philippines\"]\n",
        "thislist.extend(colors)\n",
        "print(thislist)\n",
        "\n",
        "\n",
        "(The elements will be added to the end of the list)"
      ],
      "metadata": {
        "id": "OYPtT11tVZtS"
      },
      "execution_count": null,
      "outputs": []
    },
    {
      "cell_type": "markdown",
      "source": [
        "**Add Any Iterable**"
      ],
      "metadata": {
        "id": "cmeyKp5TVowC"
      }
    },
    {
      "cell_type": "markdown",
      "source": [
        "The extend() method does not have to append lists, you can add any iterable object (tuples, sets, dictionaries etc.)."
      ],
      "metadata": {
        "id": "dnpREObRVpdq"
      }
    },
    {
      "cell_type": "code",
      "source": [
        "* Add elements of a color to a list:\n",
        "\n",
        "\n",
        "thislist = [\"canada\", \"taiwan\", \"korea\"]\n",
        "thistuple = (\"philippines, india\")\n",
        "thislist.extend(thistuple)\n",
        "print(thislist)"
      ],
      "metadata": {
        "id": "pmCtXolrVrOS"
      },
      "execution_count": null,
      "outputs": []
    },
    {
      "cell_type": "markdown",
      "source": [
        "# **Python - Remove List Items**"
      ],
      "metadata": {
        "id": "pVM_4WuqV0yR"
      }
    },
    {
      "cell_type": "markdown",
      "source": [
        "**Remove Specified Item**"
      ],
      "metadata": {
        "id": "w4i2AWIYV1uj"
      }
    },
    {
      "cell_type": "code",
      "source": [
        "* Remove \"taiwan\":\n",
        "\n",
        "\n",
        "thislist = [\"canada\", \"taiwan\", \"korea\"]\n",
        "thislist.remove(\"taiwan\")\n",
        "print(thislist)"
      ],
      "metadata": {
        "id": "WEXQF5QkV5kS"
      },
      "execution_count": null,
      "outputs": []
    },
    {
      "cell_type": "markdown",
      "source": [
        "**Remove Specified Index**"
      ],
      "metadata": {
        "id": "baUeTbdOWA2T"
      }
    },
    {
      "cell_type": "markdown",
      "source": [
        "The pop() method removes the specified index."
      ],
      "metadata": {
        "id": "9ZPMRWNnWB0j"
      }
    },
    {
      "cell_type": "code",
      "source": [
        "* Remove the second item:\n",
        "\n",
        "\n",
        "thislist = [\"canada\", \"taiwan\", \"korea\"]\n",
        "thislist.pop(1)\n",
        "print(thislist)"
      ],
      "metadata": {
        "id": "kmEXnIsjWDxj"
      },
      "execution_count": null,
      "outputs": []
    },
    {
      "cell_type": "markdown",
      "source": [
        "If you do not specify the index, the pop() method removes the last item."
      ],
      "metadata": {
        "id": "8XpEXnuiWHWq"
      }
    },
    {
      "cell_type": "code",
      "source": [
        "* Remove the last item:\n",
        "\n",
        "\n",
        "thislist = [\"canada\", \"taiwan\", \"korea\"]\n",
        "thislist.pop()\n",
        "print(thislist)"
      ],
      "metadata": {
        "id": "dudXx_9WWI-p"
      },
      "execution_count": null,
      "outputs": []
    },
    {
      "cell_type": "markdown",
      "source": [
        "The del keyword also removes the specified index:"
      ],
      "metadata": {
        "id": "F791VIEBWMLj"
      }
    },
    {
      "cell_type": "code",
      "source": [
        "* Remove the first item:\n",
        "\n",
        "\n",
        "thislist = [\"canada\", \"taiwan\", \"korea\"]\n",
        "del thislist[0]\n",
        "print(thislist)"
      ],
      "metadata": {
        "id": "5x-a_Nz2WN3T"
      },
      "execution_count": null,
      "outputs": []
    },
    {
      "cell_type": "markdown",
      "source": [
        "The del keyword can also delete the list completely."
      ],
      "metadata": {
        "id": "Q_XFc8_rWSKE"
      }
    },
    {
      "cell_type": "code",
      "source": [
        "* Delete the entire list:\n",
        "\n",
        "\n",
        "thislist = \"canada\", \"taiwan\", \"korea\"]\n",
        "del thislist"
      ],
      "metadata": {
        "id": "2-LgiJ1-WSs9"
      },
      "execution_count": null,
      "outputs": []
    },
    {
      "cell_type": "markdown",
      "source": [
        "Clear the List\n",
        "\n",
        "The clear() method empties the list.\n",
        "\n",
        "The list still remains, but it has no content."
      ],
      "metadata": {
        "id": "549V0PtAWYgj"
      }
    },
    {
      "cell_type": "code",
      "source": [
        "* Clear the list content:\n",
        "\n",
        "\n",
        "thislist = [\"canada\", \"taiwan\", \"korea\"]\n",
        "thislist.clear()\n",
        "print(thislist)"
      ],
      "metadata": {
        "id": "ysElZ2tfWblS"
      },
      "execution_count": null,
      "outputs": []
    },
    {
      "cell_type": "markdown",
      "source": [
        "# **Python - Sort Lists**"
      ],
      "metadata": {
        "id": "VTzmU1HZWkaL"
      }
    },
    {
      "cell_type": "markdown",
      "source": [
        "Advanced Operations in Python Lists\n",
        "\n",
        "Sort List Alphanumerically\n",
        "\n",
        "List objects have a sort() method that will sort the list alphanumerically, ascending, by default:"
      ],
      "metadata": {
        "id": "FUcuibaQWmrZ"
      }
    },
    {
      "cell_type": "code",
      "source": [
        "* Sort the list alphabetically:\n",
        "\n",
        "\n",
        "thislist = [\"canada\", \"taiwan\", \"korea\", \"japan\", \"dubai\"]\n",
        "thislist.sort()\n",
        "print(thislist)"
      ],
      "metadata": {
        "id": "p8uSV27kWowE"
      },
      "execution_count": null,
      "outputs": []
    },
    {
      "cell_type": "code",
      "source": [
        "* Sort the list numerically:\n",
        "\n",
        "\n",
        "thislist = [109, 59, 69, 89, 29]\n",
        "thislist.sort()\n",
        "print(thislist)"
      ],
      "metadata": {
        "id": "XQs6n1HQWwfa"
      },
      "execution_count": null,
      "outputs": []
    },
    {
      "cell_type": "markdown",
      "source": [
        "**Sort Descending**"
      ],
      "metadata": {
        "id": "3ALAOVoLWxsC"
      }
    },
    {
      "cell_type": "markdown",
      "source": [
        "To sort descending, use the keyword argument reverse = True:"
      ],
      "metadata": {
        "id": "htsR-ngxWzsq"
      }
    },
    {
      "cell_type": "code",
      "source": [
        "* Sort the list descending:\n",
        "\n",
        "\n",
        "thislist = [\"canada\", \"taiwan\", \"korea\", \"japan\", \"dubai\"]\n",
        "thislist.sort(reverse = True)\n",
        "print(thislist)"
      ],
      "metadata": {
        "id": "GWyv5ZNkW16L"
      },
      "execution_count": null,
      "outputs": []
    },
    {
      "cell_type": "code",
      "source": [
        "* Sort the list descending:\n",
        "\n",
        "\n",
        "thislist = [109, 59, 69, 89, 29]\n",
        "thislist.sort(reverse = True)\n",
        "print(thislist)"
      ],
      "metadata": {
        "id": "yQ2PPMQwXMQ6"
      },
      "execution_count": null,
      "outputs": []
    },
    {
      "cell_type": "markdown",
      "source": [
        "Customize Sort Function"
      ],
      "metadata": {
        "id": "nBUi2gZ0XMuD"
      }
    },
    {
      "cell_type": "markdown",
      "source": [
        "You can also customize your own function by using the keyword argument key = function. The function will return a number that will be used to sort the list (the lowest number first):"
      ],
      "metadata": {
        "id": "lDP3pXALXORz"
      }
    },
    {
      "cell_type": "code",
      "source": [
        "* Sort the list based on how close the number is to 50:\n",
        "\n",
        "\n",
        "def myfunc(n):\n",
        "  return abs(n - 50)\n",
        "\n",
        "thislist = [109, 59, 69, 89, 29]\n",
        "\n",
        "thislist.sort(key = myfunc)\n",
        "\n",
        "print(thislist)"
      ],
      "metadata": {
        "id": "ZC6RbtQ6XQkB"
      },
      "execution_count": null,
      "outputs": []
    },
    {
      "cell_type": "markdown",
      "source": [
        "**Case Insensitive Sort**"
      ],
      "metadata": {
        "id": "6-jyyAvRXSST"
      }
    },
    {
      "cell_type": "markdown",
      "source": [
        "By default the sort() method is case sensitive, resulting in all capital letters being sorted before lower case letters:"
      ],
      "metadata": {
        "id": "minC_IZ6XVmp"
      }
    },
    {
      "cell_type": "code",
      "source": [
        "* Case sensitive sorting can give an unexpected result:\n",
        "\n",
        "\n",
        "thislist = [\"canada\", \"taiwan\", \"korea\", \"japan\"]\n",
        "thislist.sort()\n",
        "print(thislist)"
      ],
      "metadata": {
        "id": "hU_gbWHVXYWZ"
      },
      "execution_count": null,
      "outputs": []
    },
    {
      "cell_type": "markdown",
      "source": [
        "Luckily we can use built-in functions as key functions when sorting a list."
      ],
      "metadata": {
        "id": "5T3WBbgpXgZJ"
      }
    },
    {
      "cell_type": "markdown",
      "source": [
        "So if you want a case-insensitive sort function, use str.lower as a key function:"
      ],
      "metadata": {
        "id": "47h_E61fXiC3"
      }
    },
    {
      "cell_type": "code",
      "source": [
        "* Perform a case-insensitive sort of the list:\n",
        "\n",
        "\n",
        "thislist = [\"canada\", \"taiwan\", \"korea\", \"japan\"]\n",
        "thislist.sort(key = str.lower)\n",
        "print(thislist)"
      ],
      "metadata": {
        "id": "OdEDpztuXlFD"
      },
      "execution_count": null,
      "outputs": []
    },
    {
      "cell_type": "markdown",
      "source": [
        "\n",
        "**Reverse Order**"
      ],
      "metadata": {
        "id": "j1R8VoK9Xp-K"
      }
    },
    {
      "cell_type": "markdown",
      "source": [
        "What if you want to reverse the order of a list, regardless of the alphabet?\n",
        "\n",
        "The reverse() method reverses the current sorting order of the elements."
      ],
      "metadata": {
        "id": "OPS_fQIjX0g0"
      }
    },
    {
      "cell_type": "code",
      "source": [
        "* Reverse the order of the list items:\n",
        "\n",
        "\n",
        "thislist = [\"canada\", \"taiwan\", \"korea\", \"japan\"]\n",
        "thislist.reverse()\n",
        "print(thislist)"
      ],
      "metadata": {
        "id": "glyuCDyFX3HL"
      },
      "execution_count": null,
      "outputs": []
    },
    {
      "cell_type": "markdown",
      "source": [
        "# **Python - Copy Lists**"
      ],
      "metadata": {
        "id": "e6TXBDnmX7ii"
      }
    },
    {
      "cell_type": "markdown",
      "source": [
        "**Copy a List**"
      ],
      "metadata": {
        "id": "VWfVAPFlX9jc"
      }
    },
    {
      "cell_type": "markdown",
      "source": [
        "You cannot copy a list simply by typing list2 = list1, because: list2 will only be a reference to list1, and changes made in list1 will automatically also be made in list2.\n",
        "\n",
        "There are ways to make a copy, one way is to use the built-in List method copy()."
      ],
      "metadata": {
        "id": "3qMJaTU6X_xp"
      }
    },
    {
      "cell_type": "code",
      "source": [
        "* Make a copy of a list with the copy() method:\n",
        "\n",
        "\n",
        "thislist = [\"canada\", \"taiwan\", \"korea\"]\n",
        "mylist = thislist.copy()\n",
        "print(mylist)"
      ],
      "metadata": {
        "id": "DC7xD8XFYB0z"
      },
      "execution_count": null,
      "outputs": []
    },
    {
      "cell_type": "markdown",
      "source": [
        "Another way to make a copy is to use the built-in method list()."
      ],
      "metadata": {
        "id": "w7E-T-ojX7gq"
      }
    },
    {
      "cell_type": "code",
      "source": [
        "* Make a copy of a list with the list() method:\n",
        "\n",
        "\n",
        "thislist = [\"canada\", \"taiwan\", \"korea\"]\n",
        "mylist = list(thislist)\n",
        "print(mylist)"
      ],
      "metadata": {
        "id": "rUWdFGcLYJGa"
      },
      "execution_count": null,
      "outputs": []
    },
    {
      "cell_type": "markdown",
      "source": [
        "Another way to make a copy is to use the built-in method list()."
      ],
      "metadata": {
        "id": "oqgXIaINYRRh"
      }
    },
    {
      "cell_type": "markdown",
      "source": [
        "# **Python - Join Lists**"
      ],
      "metadata": {
        "id": "vDCwGXzhYTNK"
      }
    },
    {
      "cell_type": "markdown",
      "source": [
        "**Join Two Lists**"
      ],
      "metadata": {
        "id": "Il_02yClYVZB"
      }
    },
    {
      "cell_type": "markdown",
      "source": [
        "There are several ways to join, or concatenate, two or more lists in Python. One of the easiest ways are by using the + operator."
      ],
      "metadata": {
        "id": "maSWSk6UYX9T"
      }
    },
    {
      "cell_type": "code",
      "source": [
        "* Join two list:\n",
        "\n",
        "\n",
        "list1 = [\"q\", \"w\", \"e\"]\n",
        "list2 = [3, 6, 9]\n",
        "\n",
        "list3 = list1 + list2\n",
        "print(list3)"
      ],
      "metadata": {
        "id": "VoxdI9CHYc6J"
      },
      "execution_count": null,
      "outputs": []
    },
    {
      "cell_type": "markdown",
      "source": [
        "Another way to join two lists is by appending all the items from list2 into list1, one by one:"
      ],
      "metadata": {
        "id": "wSz6Ye2RYhZ5"
      }
    },
    {
      "cell_type": "code",
      "source": [
        "* Append list2 into list1:\n",
        "\n",
        "\n",
        "list1 = [\"q\", \"w\", \"e\"]\n",
        "list2 = [3, 6, 9]\n",
        "\n",
        "for x in list2:\n",
        "  list1.append(x)\n",
        "\n",
        "print(list1)"
      ],
      "metadata": {
        "id": "8sLtxarAYhwp"
      },
      "execution_count": null,
      "outputs": []
    },
    {
      "cell_type": "markdown",
      "source": [
        "Or you can use the extend() method, which purpose is to add elements from one list to another list:"
      ],
      "metadata": {
        "id": "hzko0S72Yksp"
      }
    },
    {
      "cell_type": "code",
      "source": [
        "* Use the extend() method to add list2 at the end of list1:\n",
        "\n",
        "\n",
        "list1 = [\"q\", \"w\", \"e\"]\n",
        "list2 = [1, 2, 3]\n",
        "\n",
        "list1.extend(list2)\n",
        "print(list1)"
      ],
      "metadata": {
        "id": "Je6Ahla1YlKh"
      },
      "execution_count": null,
      "outputs": []
    },
    {
      "cell_type": "markdown",
      "source": [
        "# **Python - List Methods**"
      ],
      "metadata": {
        "id": "Cr0ihf0EYmrp"
      }
    },
    {
      "cell_type": "markdown",
      "source": [
        "**List Methods**\n",
        "\n",
        "**Python List reverse() Method**"
      ],
      "metadata": {
        "id": "x_AlyQxSYpGp"
      }
    },
    {
      "cell_type": "code",
      "source": [
        "* Reverse the order of the colors list:\n",
        "\n",
        "\n",
        "colors = [\"canada\", \"taiwan\", \"korea]\n",
        "\n",
        "colors.reverse()\n",
        "\n",
        "print(colors)"
      ],
      "metadata": {
        "id": "Vli5rHJAYvox"
      },
      "execution_count": null,
      "outputs": []
    },
    {
      "cell_type": "markdown",
      "source": [
        "Definition and Usage"
      ],
      "metadata": {
        "id": "W00A16WJY355"
      }
    },
    {
      "cell_type": "code",
      "source": [
        "- The reverse() method reverses the sorting order of the elements."
      ],
      "metadata": {
        "id": "0H2TmT_kY4qJ"
      },
      "execution_count": null,
      "outputs": []
    },
    {
      "cell_type": "markdown",
      "source": [
        "\n",
        "Syntax"
      ],
      "metadata": {
        "id": "uZYZi5OEY6XR"
      }
    },
    {
      "cell_type": "code",
      "source": [
        "- list.reverse()"
      ],
      "metadata": {
        "id": "w55s7EYQY9ty"
      },
      "execution_count": null,
      "outputs": []
    },
    {
      "cell_type": "markdown",
      "source": [
        "Parameter Values"
      ],
      "metadata": {
        "id": "859L0gebY_LZ"
      }
    },
    {
      "cell_type": "code",
      "source": [
        "- No parameters"
      ],
      "metadata": {
        "id": "cPVRyDW0ZAgh"
      },
      "execution_count": null,
      "outputs": []
    },
    {
      "cell_type": "markdown",
      "source": [
        "- No parameters"
      ],
      "metadata": {
        "id": "nNMb9YEkZB5s"
      }
    },
    {
      "cell_type": "code",
      "source": [
        "- The buil-in function reversed() returns a reversed iterator object."
      ],
      "metadata": {
        "id": "qNxRZuqGZEAZ"
      },
      "execution_count": null,
      "outputs": []
    },
    {
      "cell_type": "markdown",
      "source": [
        "# **Official The Python Tutorial » 5. Data Structures**"
      ],
      "metadata": {
        "id": "Xtfa5JsFZGkh"
      }
    },
    {
      "cell_type": "markdown",
      "source": [
        "# **list.count(x)Method:Return the number of times x appears in the list.**"
      ],
      "metadata": {
        "id": "4B3N2qX4ZKgh"
      }
    }
  ]
}