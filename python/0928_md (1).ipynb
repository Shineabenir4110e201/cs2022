{
  "nbformat": 4,
  "nbformat_minor": 0,
  "metadata": {
    "colab": {
      "provenance": []
    },
    "kernelspec": {
      "name": "python3",
      "display_name": "Python 3"
    },
    "language_info": {
      "name": "python"
    }
  },
  "cells": [
    {
      "cell_type": "markdown",
      "source": [
        "# **0928 Learning Python**"
      ],
      "metadata": {
        "id": "hWwM-DY5Bf6I"
      }
    },
    {
      "cell_type": "markdown",
      "source": [
        "Python Tutorial - W3Schools\n",
        "\n",
        "Python Tutorial - Tutorialspoint\n",
        "\n",
        "HappyPythonDay"
      ],
      "metadata": {
        "id": "NpWoNIkdBhfR"
      }
    },
    {
      "cell_type": "markdown",
      "source": [
        "**EXERCISES:**"
      ],
      "metadata": {
        "id": "bvgskz7kBsEH"
      }
    },
    {
      "cell_type": "markdown",
      "source": [
        "# **EX1:WRITE A POWERPOINT ABOUT**"
      ],
      "metadata": {
        "id": "GVg66T3lBwin"
      }
    },
    {
      "cell_type": "markdown",
      "source": [
        "TITLE:LAERNING PYTHON\n",
        "\n",
        "CONTENT:\n",
        "\n",
        "What is Python?\n",
        "\n",
        "Python Jobs\n",
        "\n",
        "Why to Learn Python?\n",
        "\n",
        "Python Online Interpreter\n",
        "\n",
        "one\n",
        "\n",
        "two\n",
        "\n",
        "GOOGLE COLAB\n",
        "\n",
        "YOUR PYTHON CODE\n",
        "\n",
        "UPLOAD YOUR POWERPOINT TO YOUR GITHUB"
      ],
      "metadata": {
        "id": "gFD83_URBz2O"
      }
    },
    {
      "cell_type": "markdown",
      "source": [
        "# **EX2: sample**"
      ],
      "metadata": {
        "id": "L_wPqB8pCCAn"
      }
    },
    {
      "cell_type": "code",
      "source": [
        "def sum(a, b):\n",
        "    return (a + b)\n",
        "\n",
        "print(\"A888168 WORKS HARD\")  //write your student ID here\n",
        "a = int(input('Enter 1st number: '))\n",
        "b = int(input('Enter 2nd number: '))\n",
        "\n",
        "print(f'Sum of {a} and {b} is {sum(a, b)}')"
      ],
      "metadata": {
        "id": "lQsR8Yt5CDr8"
      },
      "execution_count": null,
      "outputs": []
    },
    {
      "cell_type": "markdown",
      "source": [
        "# **EX3: INPUT AND OUTPUT**"
      ],
      "metadata": {
        "id": "71mlOv5sCG_Z"
      }
    },
    {
      "cell_type": "markdown",
      "source": [
        "# **INPUT: input() **bold text**"
      ],
      "metadata": {
        "id": "QShWi0arCK6O"
      }
    },
    {
      "cell_type": "markdown",
      "source": [
        "OUTPUT:print()\n",
        "\n",
        "type()\n",
        "\n",
        "comments ==> #**"
      ],
      "metadata": {
        "id": "IY6g8MAsCONp"
      }
    },
    {
      "cell_type": "markdown",
      "source": [
        "**Question:**"
      ],
      "metadata": {
        "id": "x9ADCXtECQpo"
      }
    },
    {
      "cell_type": "code",
      "source": [
        "print(\"A888168 WORKS HARD\")\n",
        "a = input('Enter 1st number: ')\n",
        "b = a + 2"
      ],
      "metadata": {
        "id": "j8ibZphJCTOH"
      },
      "execution_count": null,
      "outputs": []
    },
    {
      "cell_type": "markdown",
      "source": [
        "# **Answers: two way**"
      ],
      "metadata": {
        "id": "fc9d2EDfCWan"
      }
    },
    {
      "cell_type": "code",
      "source": [
        "print(\"A888168 WORKS HARD\")\n",
        "a = int(input('Enter 1st number: '))\n",
        "# type(a)\n",
        "b = a + 2\n",
        "b"
      ],
      "metadata": {
        "id": "DxB1ryV3CY6H"
      },
      "execution_count": null,
      "outputs": []
    },
    {
      "cell_type": "code",
      "source": [
        "print(\"A888168 WORKS HARD\")\n",
        "a = eval(input('Enter 1st number: '))\n",
        "# type(a)\n",
        "b = a + 2\n",
        "b"
      ],
      "metadata": {
        "id": "NU7AaOzyCbcX"
      },
      "execution_count": null,
      "outputs": []
    },
    {
      "cell_type": "markdown",
      "source": [
        "# **EX4: Data type**"
      ],
      "metadata": {
        "id": "19CdE5NJCeL_"
      }
    },
    {
      "cell_type": "markdown",
      "source": [
        "Python Data Types"
      ],
      "metadata": {
        "id": "fGhXCChnCglX"
      }
    },
    {
      "cell_type": "code",
      "source": [
        "x = range(6)\n",
        "\n",
        "for i in range(6):\n",
        "  print(i)\n",
        "\n",
        "#display x:\n",
        "print(x)\n",
        "\n",
        "#display the data type of x:\n",
        "print(type(x))"
      ],
      "metadata": {
        "id": "sVyAOBy9CihA"
      },
      "execution_count": null,
      "outputs": []
    },
    {
      "cell_type": "markdown",
      "source": [
        "dict: key-value pair"
      ],
      "metadata": {
        "id": "LzV1QdVDCoXQ"
      }
    },
    {
      "cell_type": "code",
      "source": [
        "x = {\"name\" : \"John\", \"age\" : 36}\n",
        "\n",
        "#display x:\n",
        "print(x)\n",
        "\n",
        "#display the data type of x:\n",
        "print(type(x)) \n",
        "\n",
        "print(x[\"name\"])"
      ],
      "metadata": {
        "id": "M1_dcXMcCo7u"
      },
      "execution_count": null,
      "outputs": []
    },
    {
      "cell_type": "markdown",
      "source": [
        "# **EX5: Python Numbers : operators**"
      ],
      "metadata": {
        "id": "qhYePihDCtSX"
      }
    },
    {
      "cell_type": "markdown",
      "source": [
        "Python Numbers\n",
        "\n",
        "Python Operators\n",
        "\n",
        "Python Arithmetic Operators"
      ],
      "metadata": {
        "id": "MkvJJbVACxR2"
      }
    },
    {
      "cell_type": "code",
      "source": [
        "print(\"A888168\")\n",
        "\n",
        "x = 13\n",
        "y = 3\n",
        "\n",
        "#print(x / y)\n",
        "print(x // y)\n",
        "print(x % y)"
      ],
      "metadata": {
        "id": "46rs2tL3Cx9w"
      },
      "execution_count": null,
      "outputs": []
    },
    {
      "cell_type": "markdown",
      "source": [
        "Python Assignment Operators"
      ],
      "metadata": {
        "id": "PWEPY4O4C0DO"
      }
    },
    {
      "cell_type": "code",
      "source": [
        "x = 5\n",
        "\n",
        "y = x%3 \n",
        "x %= 3\n",
        "\n",
        "print(x)\n",
        "print(y)"
      ],
      "metadata": {
        "id": "AM2SlhxdC2EW"
      },
      "execution_count": null,
      "outputs": []
    },
    {
      "cell_type": "markdown",
      "source": [
        "Python Comparison Operators\n",
        "\n",
        "Python Logical Operators"
      ],
      "metadata": {
        "id": "mb8pWTnOC4Ju"
      }
    },
    {
      "cell_type": "code",
      "source": [
        "x = 15\n",
        "\n",
        "print(x > 3 and x < 10)\n",
        "\n",
        "print(x > 3 or x < 10)"
      ],
      "metadata": {
        "id": "B6Tkls7UC6fn"
      },
      "execution_count": null,
      "outputs": []
    }
  ]
}