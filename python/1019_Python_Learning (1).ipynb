{
  "nbformat": 4,
  "nbformat_minor": 0,
  "metadata": {
    "colab": {
      "provenance": []
    },
    "kernelspec": {
      "name": "python3",
      "display_name": "Python 3"
    },
    "language_info": {
      "name": "python"
    }
  },
  "cells": [
    {
      "cell_type": "markdown",
      "source": [
        "# **1019 Python Learning 4110E201**"
      ],
      "metadata": {
        "id": "OLM7QNgrZuuD"
      }
    },
    {
      "cell_type": "markdown",
      "source": [
        "# **Python Conditions and If statements**"
      ],
      "metadata": {
        "id": "tGNlJ476ZxNa"
      }
    },
    {
      "cell_type": "markdown",
      "source": [
        "**If statement:**"
      ],
      "metadata": {
        "id": "7H_6M_VdZzp6"
      }
    },
    {
      "cell_type": "code",
      "source": [
        "a = 89\n",
        "b = 169\n",
        "\n",
        "if b > a:\n",
        "  print(\"b is greater than a\")"
      ],
      "metadata": {
        "colab": {
          "base_uri": "https://localhost:8080/"
        },
        "id": "gqVmVS5pZ1c3",
        "outputId": "5bd93852-7e9b-4177-8e8e-93ee8e2f6cb7"
      },
      "execution_count": 1,
      "outputs": [
        {
          "output_type": "stream",
          "name": "stdout",
          "text": [
            "b is greater than a\n"
          ]
        }
      ]
    },
    {
      "cell_type": "markdown",
      "source": [
        "# **Indentation**"
      ],
      "metadata": {
        "id": "tY7ZWzUNZ9_o"
      }
    },
    {
      "cell_type": "markdown",
      "source": [
        "**If statement, without indentation (will raise an error):**"
      ],
      "metadata": {
        "id": "isRy6yhbZ_Wi"
      }
    },
    {
      "cell_type": "code",
      "source": [
        "a = 89\n",
        "b = 169\n",
        "if b > a:\n",
        "print(\"b is greater than a\") # you will get an error"
      ],
      "metadata": {
        "colab": {
          "base_uri": "https://localhost:8080/",
          "height": 130
        },
        "id": "CTnGBjSVaBWR",
        "outputId": "63d69a53-572a-4b59-d80c-fedb90cab79f"
      },
      "execution_count": 2,
      "outputs": [
        {
          "output_type": "error",
          "ename": "IndentationError",
          "evalue": "ignored",
          "traceback": [
            "\u001b[0;36m  File \u001b[0;32m\"<ipython-input-2-ed2bc87ad356>\"\u001b[0;36m, line \u001b[0;32m4\u001b[0m\n\u001b[0;31m    print(\"b is greater than a\") # you will get an error\u001b[0m\n\u001b[0m        ^\u001b[0m\n\u001b[0;31mIndentationError\u001b[0m\u001b[0;31m:\u001b[0m expected an indented block\n"
          ]
        }
      ]
    },
    {
      "cell_type": "markdown",
      "source": [
        "# **Elif**"
      ],
      "metadata": {
        "id": "md-ROf2MaD0Z"
      }
    },
    {
      "cell_type": "code",
      "source": [
        "a = 69\n",
        "b = 69\n",
        "if b > a:\n",
        "  print(\"b is greater than a\")\n",
        "elif a == b:\n",
        "  print(\"a and b are equal\")"
      ],
      "metadata": {
        "colab": {
          "base_uri": "https://localhost:8080/"
        },
        "id": "308c1J7CaIKN",
        "outputId": "4efd5a59-4705-4b5b-e41d-384711776cf1"
      },
      "execution_count": 3,
      "outputs": [
        {
          "output_type": "stream",
          "name": "stdout",
          "text": [
            "a and b are equal\n"
          ]
        }
      ]
    },
    {
      "cell_type": "markdown",
      "source": [
        "# **Else**"
      ],
      "metadata": {
        "id": "zCUtQWgnaJSQ"
      }
    },
    {
      "cell_type": "code",
      "source": [
        "a = 169\n",
        "b = 89\n",
        "if b > a:\n",
        "  print(\"b is greater than a\")\n",
        "elif a == b:\n",
        "  print(\"a and b are equal\")\n",
        "else:\n",
        "  print(\"a is greater than b\")"
      ],
      "metadata": {
        "colab": {
          "base_uri": "https://localhost:8080/"
        },
        "id": "27WHwOeXaLxY",
        "outputId": "d22d7a23-424c-4606-9685-f69204b493fd"
      },
      "execution_count": 4,
      "outputs": [
        {
          "output_type": "stream",
          "name": "stdout",
          "text": [
            "a is greater than b\n"
          ]
        }
      ]
    },
    {
      "cell_type": "code",
      "source": [
        "a = 169\n",
        "b = 89\n",
        "if b > a:\n",
        "  print(\"b is greater than a\")\n",
        "else:\n",
        "  print(\"b is not greater than a\")"
      ],
      "metadata": {
        "colab": {
          "base_uri": "https://localhost:8080/"
        },
        "id": "C12vrucoaOaK",
        "outputId": "9e0bbf41-662f-4aa9-ff32-ae723f9c2137"
      },
      "execution_count": 5,
      "outputs": [
        {
          "output_type": "stream",
          "name": "stdout",
          "text": [
            "b is not greater than a\n"
          ]
        }
      ]
    },
    {
      "cell_type": "markdown",
      "source": [
        "# **Short Hand If**"
      ],
      "metadata": {
        "id": "xSrVj0JDaQmL"
      }
    },
    {
      "cell_type": "markdown",
      "source": [
        "**One line if statement: **"
      ],
      "metadata": {
        "id": "xMUdixjoaUMR"
      }
    },
    {
      "cell_type": "code",
      "source": [
        "a = 169\n",
        "b = 89\n",
        "\n",
        "if a > b: print(\"a is greater than b\")"
      ],
      "metadata": {
        "colab": {
          "base_uri": "https://localhost:8080/"
        },
        "id": "99Xn6znOaSlQ",
        "outputId": "4071c32e-10c8-478c-a80d-774c9adf3247"
      },
      "execution_count": 6,
      "outputs": [
        {
          "output_type": "stream",
          "name": "stdout",
          "text": [
            "a is greater than b\n"
          ]
        }
      ]
    },
    {
      "cell_type": "markdown",
      "source": [
        "# **Short Hand If ... Else**"
      ],
      "metadata": {
        "id": "Q2dL6BLoab2a"
      }
    },
    {
      "cell_type": "markdown",
      "source": [
        "**One line if else statement:**"
      ],
      "metadata": {
        "id": "fT1myhayafix"
      }
    },
    {
      "cell_type": "code",
      "source": [
        "a = 9\n",
        "b = 371\n",
        "\n",
        "print(\"A\") if a > b else print(\"B\")"
      ],
      "metadata": {
        "colab": {
          "base_uri": "https://localhost:8080/"
        },
        "id": "Mivq2SALaglZ",
        "outputId": "0a9c542e-b83c-4764-9fa1-7f62224f2fcf"
      },
      "execution_count": 7,
      "outputs": [
        {
          "output_type": "stream",
          "name": "stdout",
          "text": [
            "B\n"
          ]
        }
      ]
    },
    {
      "cell_type": "markdown",
      "source": [
        "**One line if else statement, with 3 conditions:**"
      ],
      "metadata": {
        "id": "gXUw-I5XazPZ"
      }
    },
    {
      "cell_type": "code",
      "source": [
        "a = 371\n",
        "b = 371\n",
        "\n",
        "print(\"A\") if a > b else print(\"=\") if a == b else print(\"B\")"
      ],
      "metadata": {
        "colab": {
          "base_uri": "https://localhost:8080/"
        },
        "id": "Mq_08zx4a05A",
        "outputId": "af771a40-ea60-4127-ae06-5d39829bbb32"
      },
      "execution_count": 8,
      "outputs": [
        {
          "output_type": "stream",
          "name": "stdout",
          "text": [
            "=\n"
          ]
        }
      ]
    },
    {
      "cell_type": "markdown",
      "source": [
        "\n",
        "## **And**"
      ],
      "metadata": {
        "id": "Q0C0dDF2a5dQ"
      }
    },
    {
      "cell_type": "markdown",
      "source": [
        "**Test if a is greater than b, AND if c is greater than a:**"
      ],
      "metadata": {
        "id": "sjTy9pR0a6pK"
      }
    },
    {
      "cell_type": "code",
      "source": [
        "a = 390\n",
        "b = 69\n",
        "c = 750\n",
        "if a > b and c > a:\n",
        "  print(\"Both conditions are True\")"
      ],
      "metadata": {
        "colab": {
          "base_uri": "https://localhost:8080/"
        },
        "id": "S67FbEEaa8tg",
        "outputId": "b43be20d-0216-4ab6-9c8d-9ccb632b676c"
      },
      "execution_count": 9,
      "outputs": [
        {
          "output_type": "stream",
          "name": "stdout",
          "text": [
            "Both conditions are True\n"
          ]
        }
      ]
    },
    {
      "cell_type": "markdown",
      "source": [
        "# **Or**"
      ],
      "metadata": {
        "id": "v7JPkFkNbcQh"
      }
    },
    {
      "cell_type": "markdown",
      "source": [
        "**Test if a is greater than b, OR if a is greater than c:**"
      ],
      "metadata": {
        "id": "oIVpp3D7bdP4"
      }
    },
    {
      "cell_type": "code",
      "source": [
        "a = 390\n",
        "b = 69\n",
        "c = 750\n",
        "if a > b or a > c:\n",
        "  print(\"At least one of the conditions is True\")"
      ],
      "metadata": {
        "colab": {
          "base_uri": "https://localhost:8080/"
        },
        "id": "dpT1o-t7bgmx",
        "outputId": "5ea96d05-7bb3-4ce1-a213-9bc6307d8e1b"
      },
      "execution_count": 10,
      "outputs": [
        {
          "output_type": "stream",
          "name": "stdout",
          "text": [
            "At least one of the conditions is True\n"
          ]
        }
      ]
    },
    {
      "cell_type": "markdown",
      "source": [
        "# **Nested If**"
      ],
      "metadata": {
        "id": "2lC7IwnqbjWo"
      }
    },
    {
      "cell_type": "code",
      "source": [
        "x = 61\n",
        "\n",
        "if x > 30:\n",
        "  print(\"Above thirty,\")\n",
        "  if x > 50:\n",
        "    print(\"and also above 50!\")\n",
        "  else:\n",
        "    print(\"but not above 50.\")"
      ],
      "metadata": {
        "colab": {
          "base_uri": "https://localhost:8080/"
        },
        "id": "8zIGLlv9bkbj",
        "outputId": "124a4f44-88c1-4382-d792-f5ebcb8c67f7"
      },
      "execution_count": 11,
      "outputs": [
        {
          "output_type": "stream",
          "name": "stdout",
          "text": [
            "Above thirty,\n",
            "and also above 50!\n"
          ]
        }
      ]
    },
    {
      "cell_type": "markdown",
      "source": [
        "# **The pass Statement**"
      ],
      "metadata": {
        "id": "4uZCoMplbnd4"
      }
    },
    {
      "cell_type": "code",
      "source": [
        "a = 89\n",
        "b = 169\n",
        "\n",
        "if b > a:\n",
        "  pass\n",
        "\n",
        "# having an empty if statement like this, would raise an error without the pass statement"
      ],
      "metadata": {
        "id": "e9NHumyWbpyo"
      },
      "execution_count": 12,
      "outputs": []
    },
    {
      "cell_type": "markdown",
      "source": [
        "# **Python For Loops**"
      ],
      "metadata": {
        "id": "b9F_r89pbwb4"
      }
    },
    {
      "cell_type": "markdown",
      "source": [
        "**Print each fruit in a fruit list:**"
      ],
      "metadata": {
        "id": "BzFzWcknbyay"
      }
    },
    {
      "cell_type": "code",
      "source": [
        "classmates = [\"sheilo\", \"yulah\", \"july\"]\n",
        "for x in classmates:\n",
        "  print(x)"
      ],
      "metadata": {
        "id": "f4TLSdakbzFY"
      },
      "execution_count": null,
      "outputs": []
    },
    {
      "cell_type": "markdown",
      "source": [
        "# **Looping Through a String**"
      ],
      "metadata": {
        "id": "nvUeWzwScCU4"
      }
    },
    {
      "cell_type": "markdown",
      "source": [
        "Loop through the letters in the word \"yael\":"
      ],
      "metadata": {
        "id": "FZ5B2YrxcDfx"
      }
    },
    {
      "cell_type": "code",
      "source": [
        "for x in \"yael\":\n",
        "  print(x)"
      ],
      "metadata": {
        "colab": {
          "base_uri": "https://localhost:8080/"
        },
        "id": "lIZrxxnMcJW4",
        "outputId": "6a15282b-174d-4a11-ea46-2aa0867fd078"
      },
      "execution_count": 13,
      "outputs": [
        {
          "output_type": "stream",
          "name": "stdout",
          "text": [
            "y\n",
            "a\n",
            "e\n",
            "l\n"
          ]
        }
      ]
    },
    {
      "cell_type": "markdown",
      "source": [
        "# **The break Statement**"
      ],
      "metadata": {
        "id": "J35NWkHvcVf4"
      }
    },
    {
      "cell_type": "markdown",
      "source": [
        "Exit the loop when x is \"yulah\":"
      ],
      "metadata": {
        "id": "Ksqj5HO_cWqA"
      }
    },
    {
      "cell_type": "code",
      "source": [
        "classmates = [\"sheilo\", \"yulah\", \"july\"]\n",
        "for x in classmates:\n",
        "  print(x) \n",
        "  if x == \"yulah\":\n",
        "    break"
      ],
      "metadata": {
        "colab": {
          "base_uri": "https://localhost:8080/"
        },
        "id": "XmXWgs4TcZuI",
        "outputId": "b3a72738-d4cd-4447-a15e-8ab4ea227cd9"
      },
      "execution_count": 14,
      "outputs": [
        {
          "output_type": "stream",
          "name": "stdout",
          "text": [
            "sheilo\n",
            "yulah\n"
          ]
        }
      ]
    },
    {
      "cell_type": "markdown",
      "source": [
        "Exit the loop when x is \"mary cris\", but this time the break comes before the print:"
      ],
      "metadata": {
        "id": "xefRX-nIc0_w"
      }
    },
    {
      "cell_type": "code",
      "source": [
        "assmates = [\"sheilo\", \"yulah\", \"july\"]\n",
        "for x in classmates:\n",
        "  if x == \"yulah\":\n",
        "    break\n",
        "  print(x)"
      ],
      "metadata": {
        "colab": {
          "base_uri": "https://localhost:8080/"
        },
        "id": "p7OYgWZdc2V2",
        "outputId": "439d1037-48f9-4fe6-9f2d-a0630cbdc84b"
      },
      "execution_count": 15,
      "outputs": [
        {
          "output_type": "stream",
          "name": "stdout",
          "text": [
            "sheilo\n"
          ]
        }
      ]
    },
    {
      "cell_type": "markdown",
      "source": [
        "# **The continue Statement**"
      ],
      "metadata": {
        "id": "tvFBBU4qc_cn"
      }
    },
    {
      "cell_type": "markdown",
      "source": [
        "Do not print yulah:"
      ],
      "metadata": {
        "id": "yhTXllhRdBrn"
      }
    },
    {
      "cell_type": "code",
      "source": [
        "classmates = [\"sheilo\", \"yulah\", \"july\"]\n",
        "for x in classmates:\n",
        "  if x == \"yulah\":\n",
        "    continue\n",
        "  print(x)"
      ],
      "metadata": {
        "colab": {
          "base_uri": "https://localhost:8080/"
        },
        "id": "B1snMCWUdGLg",
        "outputId": "00b35bfb-2b8d-469f-f3c7-5333506016cf"
      },
      "execution_count": 16,
      "outputs": [
        {
          "output_type": "stream",
          "name": "stdout",
          "text": [
            "sheilo\n",
            "july\n"
          ]
        }
      ]
    },
    {
      "cell_type": "markdown",
      "source": [
        "# **The range() Function**\n",
        "Using the range() function:\n",
        "\n"
      ],
      "metadata": {
        "id": "t1xdnRmHg1Kv"
      }
    },
    {
      "cell_type": "code",
      "source": [
        "for x in range(9):\n",
        "  print(x)"
      ],
      "metadata": {
        "colab": {
          "base_uri": "https://localhost:8080/"
        },
        "id": "6DHqEYJSg8lP",
        "outputId": "a81e1254-8930-4a41-d88f-b90630bd9ec8"
      },
      "execution_count": 17,
      "outputs": [
        {
          "output_type": "stream",
          "name": "stdout",
          "text": [
            "0\n",
            "1\n",
            "2\n",
            "3\n",
            "4\n",
            "5\n",
            "6\n",
            "7\n",
            "8\n"
          ]
        }
      ]
    },
    {
      "cell_type": "markdown",
      "source": [
        "**Using the start parameter**"
      ],
      "metadata": {
        "id": "KIdHjq4ChSCn"
      }
    },
    {
      "cell_type": "code",
      "source": [
        "for x in range(3, 9):\n",
        "  print(x)"
      ],
      "metadata": {
        "colab": {
          "base_uri": "https://localhost:8080/"
        },
        "id": "36Eaeq2ShGM5",
        "outputId": "d52f9303-0440-4687-9977-034435719816"
      },
      "execution_count": 18,
      "outputs": [
        {
          "output_type": "stream",
          "name": "stdout",
          "text": [
            "3\n",
            "4\n",
            "5\n",
            "6\n",
            "7\n",
            "8\n"
          ]
        }
      ]
    },
    {
      "cell_type": "markdown",
      "source": [
        "\n",
        "**Increment the sequence with 3 (default is 1):**"
      ],
      "metadata": {
        "id": "Q-6JaIcshWuv"
      }
    },
    {
      "cell_type": "code",
      "source": [
        "for x in range(6, 90, 3):\n",
        "  print(x)"
      ],
      "metadata": {
        "colab": {
          "base_uri": "https://localhost:8080/"
        },
        "id": "5cqu_WQFhaKw",
        "outputId": "59b218c4-b7a4-4f36-976e-e9212f3e71de"
      },
      "execution_count": 19,
      "outputs": [
        {
          "output_type": "stream",
          "name": "stdout",
          "text": [
            "6\n",
            "9\n",
            "12\n",
            "15\n",
            "18\n",
            "21\n",
            "24\n",
            "27\n",
            "30\n",
            "33\n",
            "36\n",
            "39\n",
            "42\n",
            "45\n",
            "48\n",
            "51\n",
            "54\n",
            "57\n",
            "60\n",
            "63\n",
            "66\n",
            "69\n",
            "72\n",
            "75\n",
            "78\n",
            "81\n",
            "84\n",
            "87\n"
          ]
        }
      ]
    },
    {
      "cell_type": "markdown",
      "source": [
        "# **Else in For Loop**"
      ],
      "metadata": {
        "id": "SkLJD3IaheLn"
      }
    },
    {
      "cell_type": "markdown",
      "source": [
        "**Print all numbers from 0 to 8, and print a message when the loop has ended:**"
      ],
      "metadata": {
        "id": "4r5i-x_1hssv"
      }
    },
    {
      "cell_type": "code",
      "source": [
        "for x in range(9):\n",
        "  print(x)\n",
        "else:\n",
        "  print(\"Finally finished!\")"
      ],
      "metadata": {
        "colab": {
          "base_uri": "https://localhost:8080/"
        },
        "id": "1roAq3WHh1qB",
        "outputId": "e4d6be4b-1e18-4a63-827a-c17fa4983e55"
      },
      "execution_count": 20,
      "outputs": [
        {
          "output_type": "stream",
          "name": "stdout",
          "text": [
            "0\n",
            "1\n",
            "2\n",
            "3\n",
            "4\n",
            "5\n",
            "6\n",
            "7\n",
            "8\n",
            "Finally finished!\n"
          ]
        }
      ]
    },
    {
      "cell_type": "markdown",
      "source": [
        "**Break the loop when x is 6, and see what happens with the else block:**"
      ],
      "metadata": {
        "id": "Q8VC6HImiBtm"
      }
    },
    {
      "cell_type": "code",
      "source": [
        "for x in range(9):\n",
        "  if x == 6: break\n",
        "  print(x)\n",
        "else:\n",
        "  print(\"Finally finished!\")\n",
        "\n",
        "#If the loop breaks, the else block is not executed."
      ],
      "metadata": {
        "colab": {
          "base_uri": "https://localhost:8080/"
        },
        "id": "ZGksOnpjiNvX",
        "outputId": "b26b16b5-792f-4dc0-ab5b-f8976bb2e328"
      },
      "execution_count": 21,
      "outputs": [
        {
          "output_type": "stream",
          "name": "stdout",
          "text": [
            "0\n",
            "1\n",
            "2\n",
            "3\n",
            "4\n",
            "5\n"
          ]
        }
      ]
    },
    {
      "cell_type": "markdown",
      "source": [
        "# **Nested Loops**"
      ],
      "metadata": {
        "id": "af3_4V9aiV02"
      }
    },
    {
      "cell_type": "markdown",
      "source": [
        "**Print each adjective for every classmates:**"
      ],
      "metadata": {
        "id": "Szw1JTVPibNg"
      }
    },
    {
      "cell_type": "code",
      "source": [
        "adj = [\"smart\", \"funny\", \"small\"]\n",
        "classmates = [\"sheilou\", \"yulah\", \"july\"]\n",
        "\n",
        "for x in adj:\n",
        "  for y in classmates:\n",
        "    print(x, y)"
      ],
      "metadata": {
        "colab": {
          "base_uri": "https://localhost:8080/"
        },
        "id": "IPsvcYuzioP4",
        "outputId": "389d49d7-7157-4df5-a439-d435e278883a"
      },
      "execution_count": 23,
      "outputs": [
        {
          "output_type": "stream",
          "name": "stdout",
          "text": [
            "smart sheilou\n",
            "smart yulah\n",
            "smart july\n",
            "small sheilou\n",
            "small yulah\n",
            "small july\n",
            "funny sheilou\n",
            "funny yulah\n",
            "funny july\n"
          ]
        }
      ]
    },
    {
      "cell_type": "markdown",
      "source": [
        "# **The pass Statement**"
      ],
      "metadata": {
        "id": "EqhEgrGYjobx"
      }
    },
    {
      "cell_type": "code",
      "source": [
        "for x in [0, 1, 2]:\n",
        "  pass\n",
        "\n",
        "# having an empty for loop like this, would raise an error without the pass statement"
      ],
      "metadata": {
        "id": "WjrKxFu3jq0Y"
      },
      "execution_count": 24,
      "outputs": []
    },
    {
      "cell_type": "markdown",
      "source": [
        "# **Python While Loops**"
      ],
      "metadata": {
        "id": "nFG2-cdyjvJf"
      }
    },
    {
      "cell_type": "markdown",
      "source": [
        "**The while Loop**"
      ],
      "metadata": {
        "id": "iZSur5gDlmc2"
      }
    },
    {
      "cell_type": "markdown",
      "source": [
        "P**rint i as long as i is less than 9:**"
      ],
      "metadata": {
        "id": "qnFUGDWgl68-"
      }
    },
    {
      "cell_type": "code",
      "source": [
        "i = 1\n",
        "while i < 9:\n",
        "  print(i)\n",
        "  i += 1"
      ],
      "metadata": {
        "colab": {
          "base_uri": "https://localhost:8080/"
        },
        "id": "QpGyAJJ8l_GN",
        "outputId": "026bf39f-e3ee-4230-b43e-e5773212fc0c"
      },
      "execution_count": 26,
      "outputs": [
        {
          "output_type": "stream",
          "name": "stdout",
          "text": [
            "1\n",
            "2\n",
            "3\n",
            "4\n",
            "5\n",
            "6\n",
            "7\n",
            "8\n"
          ]
        }
      ]
    },
    {
      "cell_type": "markdown",
      "source": [],
      "metadata": {
        "id": "wxw7ejHZmDEW"
      }
    },
    {
      "cell_type": "markdown",
      "source": [
        "# **The break Statement**"
      ],
      "metadata": {
        "id": "F2SqDwJKmKNF"
      }
    },
    {
      "cell_type": "markdown",
      "source": [
        "**Exit the loop when i is 6:**"
      ],
      "metadata": {
        "id": "J4vQBFvimPDu"
      }
    },
    {
      "cell_type": "code",
      "source": [
        "i = 1\n",
        "while i < 9:\n",
        "  print(i)\n",
        "  if (i == 6):\n",
        "    break\n",
        "  i += 1"
      ],
      "metadata": {
        "colab": {
          "base_uri": "https://localhost:8080/"
        },
        "id": "u8AKXFX1mUk2",
        "outputId": "6761e4b6-7eee-4796-e5e1-742006e68353"
      },
      "execution_count": 28,
      "outputs": [
        {
          "output_type": "stream",
          "name": "stdout",
          "text": [
            "1\n",
            "2\n",
            "3\n",
            "4\n",
            "5\n",
            "6\n"
          ]
        }
      ]
    },
    {
      "cell_type": "markdown",
      "source": [
        "# **The else Statement**"
      ],
      "metadata": {
        "id": "mIisnty4mcmP"
      }
    },
    {
      "cell_type": "markdown",
      "source": [
        "**Print a message once the condition is false:**"
      ],
      "metadata": {
        "id": "X7a8FOEDmvym"
      }
    },
    {
      "cell_type": "code",
      "source": [
        "i = 1\n",
        "while i < 9:\n",
        "  print(i)\n",
        "  i += 1\n",
        "else:\n",
        "  print(\"i is no longer less than 9\")"
      ],
      "metadata": {
        "colab": {
          "base_uri": "https://localhost:8080/"
        },
        "id": "50vsqJEHm30G",
        "outputId": "fb49626a-2165-47af-dcf0-34ad7a1de7e0"
      },
      "execution_count": 29,
      "outputs": [
        {
          "output_type": "stream",
          "name": "stdout",
          "text": [
            "1\n",
            "2\n",
            "3\n",
            "4\n",
            "5\n",
            "6\n",
            "7\n",
            "8\n",
            "i is no longer less than 9\n"
          ]
        }
      ]
    },
    {
      "cell_type": "markdown",
      "source": [],
      "metadata": {
        "id": "A87giyVMm7w3"
      }
    }
  ]
}