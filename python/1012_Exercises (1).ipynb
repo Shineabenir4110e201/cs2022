{
  "nbformat": 4,
  "nbformat_minor": 0,
  "metadata": {
    "colab": {
      "provenance": []
    },
    "kernelspec": {
      "name": "python3",
      "display_name": "Python 3"
    },
    "language_info": {
      "name": "python"
    }
  },
  "cells": [
    {
      "cell_type": "markdown",
      "source": [
        "# **1012 Exercises 4110E201**"
      ],
      "metadata": {
        "id": "TjvUBzP7JK4O"
      }
    },
    {
      "cell_type": "markdown",
      "source": [
        "# **Python List remove()**"
      ],
      "metadata": {
        "id": "d7QsfI7mL_Dc"
      }
    },
    {
      "cell_type": "markdown",
      "source": [
        "Exercise 1: Remove element from the list"
      ],
      "metadata": {
        "id": "L_K8g4quMC4N"
      }
    },
    {
      "cell_type": "code",
      "source": [
        "# animlas list\n",
        "animals = ['dog', 'cat', 'lion', 'tiger']\n",
        "\n",
        "# 'lion' is removed\n",
        "animals.remove('lion')\n",
        "\n",
        "\n",
        "# Updated animals List\n",
        "print('Updated animals list: ', animals)"
      ],
      "metadata": {
        "colab": {
          "base_uri": "https://localhost:8080/"
        },
        "id": "Dt22JR2LMP8m",
        "outputId": "a9251cf9-e7c5-4643-c395-87a4280b9984"
      },
      "execution_count": 2,
      "outputs": [
        {
          "output_type": "stream",
          "name": "stdout",
          "text": [
            "Updated animals list:  ['dog', 'cat', 'tiger']\n"
          ]
        }
      ]
    },
    {
      "cell_type": "markdown",
      "source": [
        "Updated fruits list: ['watermelon', 'apple', 'grapes']\n",
        "\n",
        "Exercise 2: remove() method on a list having duplicate elements"
      ],
      "metadata": {
        "id": "2v4sDlF3Mxqs"
      }
    },
    {
      "cell_type": "code",
      "source": [
        "# animals list\n",
        "animals = ['dog', 'cat', 'cat', 'lion', 'cat']\n",
        "\n",
        "# 'cat' is removed\n",
        "animals.remove('cat')\n",
        "\n",
        "\n",
        "# Updated animals list\n",
        "print('Updated animals list: ', animals)"
      ],
      "metadata": {
        "colab": {
          "base_uri": "https://localhost:8080/"
        },
        "id": "940cn-jQM3R0",
        "outputId": "6f374e0d-9eaa-46b6-87d7-8d30b36edf83"
      },
      "execution_count": 3,
      "outputs": [
        {
          "output_type": "stream",
          "name": "stdout",
          "text": [
            "Updated animals list:  ['dog', 'cat', 'lion', 'cat']\n"
          ]
        }
      ]
    },
    {
      "cell_type": "markdown",
      "source": [
        "Updated fruits list: ['watermelon', 'apple', 'grapes']\n",
        "\n",
        "Exercise 2: remove() method on a list having duplicate elements"
      ],
      "metadata": {
        "id": "2G6PwdE5NJic"
      }
    },
    {
      "cell_type": "code",
      "source": [
        "# animals list\n",
        "animals = ['dog', 'cat', 'cat', 'lion', 'cat']\n",
        "\n",
        "# 'cat' is removed\n",
        "animals.remove('cat')\n",
        "\n",
        "\n",
        "# Updated animals list\n",
        "print('Updated animals list: ', animals)"
      ],
      "metadata": {
        "colab": {
          "base_uri": "https://localhost:8080/"
        },
        "id": "RSbtIFaqNKEe",
        "outputId": "1af46be1-7f3f-480b-ea78-1733df642065"
      },
      "execution_count": 4,
      "outputs": [
        {
          "output_type": "stream",
          "name": "stdout",
          "text": [
            "Updated animals list:  ['dog', 'cat', 'lion', 'cat']\n"
          ]
        }
      ]
    },
    {
      "cell_type": "markdown",
      "source": [
        "Updated fruits list: ['watermelon', 'apple', 'orange', 'apple']\n",
        "\n",
        "Exercise 3: Deleting element that doesn't exist"
      ],
      "metadata": {
        "id": "XV6rIsNxNZ8s"
      }
    },
    {
      "cell_type": "code",
      "source": [
        "animals list\n",
        "animals =['dog', 'cat', 'lion', 'tiger']\n",
        "\n",
        "# Deleting 'bird' element\n",
        "animals.remove('bird')\n",
        "\n",
        "# Updated animals list\n",
        "print('Updated animals list: ', animals)"
      ],
      "metadata": {
        "colab": {
          "base_uri": "https://localhost:8080/",
          "height": 130
        },
        "id": "nmdiV3JxNa2V",
        "outputId": "f47dbb17-cec1-46c4-fb5d-34f7a02ae279"
      },
      "execution_count": 5,
      "outputs": [
        {
          "output_type": "error",
          "ename": "SyntaxError",
          "evalue": "ignored",
          "traceback": [
            "\u001b[0;36m  File \u001b[0;32m\"<ipython-input-5-bc27005ae01c>\"\u001b[0;36m, line \u001b[0;32m1\u001b[0m\n\u001b[0;31m    animals list\u001b[0m\n\u001b[0m               ^\u001b[0m\n\u001b[0;31mSyntaxError\u001b[0m\u001b[0;31m:\u001b[0m invalid syntax\n"
          ]
        }
      ]
    }
  ]
}