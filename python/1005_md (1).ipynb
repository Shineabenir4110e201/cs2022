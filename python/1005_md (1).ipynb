{
  "nbformat": 4,
  "nbformat_minor": 0,
  "metadata": {
    "colab": {
      "provenance": []
    },
    "kernelspec": {
      "name": "python3",
      "display_name": "Python 3"
    },
    "language_info": {
      "name": "python"
    }
  },
  "cells": [
    {
      "cell_type": "markdown",
      "source": [
        "# **1005 Learning Python**"
      ],
      "metadata": {
        "id": "FDje9Iw5G-wY"
      }
    },
    {
      "cell_type": "markdown",
      "source": [
        "Python Tutorial - W3Schools\n",
        "\n",
        "Python Tutorial - Tutorialspoint\n",
        "\n",
        "HappyPythonDay"
      ],
      "metadata": {
        "id": "VBxXDCzHHBq2"
      }
    },
    {
      "cell_type": "markdown",
      "source": [
        "# **Python Strings**"
      ],
      "metadata": {
        "id": "mrUDAWeEHE7G"
      }
    },
    {
      "cell_type": "markdown",
      "source": [
        "strings in Python are arrays of bytes representing unicode characters."
      ],
      "metadata": {
        "id": "P4ysCY37HHyX"
      }
    },
    {
      "cell_type": "code",
      "source": [
        "a = \"Hello, Shine\"\n",
        "print(a[7])\n",
        "\n",
        "# strings == > array\n",
        "# index begins with 0"
      ],
      "metadata": {
        "id": "HL-pUVXUHKHH"
      },
      "execution_count": null,
      "outputs": []
    },
    {
      "cell_type": "markdown",
      "source": [
        "Strings are Arrays ==> acces the elemet of arrays"
      ],
      "metadata": {
        "id": "QoCmkpv9HR-m"
      }
    },
    {
      "cell_type": "markdown",
      "source": [
        "Python does not have a character data type, a single character is simply a string with a length of 1"
      ],
      "metadata": {
        "id": "keMDUWr6HSZ9"
      }
    },
    {
      "cell_type": "code",
      "source": [
        "a = \"Hello, Shine!\"\n",
        "print(a[4])\n",
        "\n",
        "# strings == > array\n",
        "# index begins with 0"
      ],
      "metadata": {
        "id": "cpIoSRz8HXx2"
      },
      "execution_count": null,
      "outputs": []
    },
    {
      "cell_type": "markdown",
      "source": [
        "Looping Through a String"
      ],
      "metadata": {
        "id": "JdLEXFjyHbJt"
      }
    },
    {
      "cell_type": "code",
      "source": [
        "for x in \"Shine\":\n",
        "  print(x)"
      ],
      "metadata": {
        "id": "7ccVcLMHHd4H"
      },
      "execution_count": null,
      "outputs": []
    },
    {
      "cell_type": "markdown",
      "source": [
        "String Length:To get the length of a string, use the len()function."
      ],
      "metadata": {
        "id": "zY2n_pHVHgMF"
      }
    },
    {
      "cell_type": "code",
      "source": [
        "a = \"Hello, Shine!\"\n",
        "print(len(a))\n",
        "# wrong: print(length(a))"
      ],
      "metadata": {
        "id": "VP68DGEiHi0V"
      },
      "execution_count": null,
      "outputs": []
    },
    {
      "cell_type": "markdown",
      "source": [
        "QUIZ:tell me how many char appear in \"qwert yuiop wasd\""
      ],
      "metadata": {
        "id": "vDZr_qW0Hl7W"
      }
    },
    {
      "cell_type": "code",
      "source": [
        "a = \"qwert yuiop wasd\"\n",
        "print(len(a))\n",
        "# wrong: print(length(a))\n",
        "# 16 = 14 letter 2 space"
      ],
      "metadata": {
        "id": "vR7gUPYVHrRn"
      },
      "execution_count": null,
      "outputs": []
    },
    {
      "cell_type": "markdown",
      "source": [
        "Check String:To check if a certain phrase or character is present in a string, we can use the keyword in.\n",
        "\n",
        "keyword in vs if\n",
        "\n",
        "True or False"
      ],
      "metadata": {
        "id": "ounWFArdHr42"
      }
    },
    {
      "cell_type": "code",
      "source": [
        "txt = \"The best things in life are free!QWERTY \"\n",
        "# print(\"free\" in txt) == > True\n",
        "# print(\"QWERTY\" in txt) == > True\n",
        "print(\"QWERTY\" in txt)  # False\n",
        "``\n",
        "\n",
        "``` python\n",
        "txt = \"The best things in life are free!qwert yuiop wasd\"\n",
        "if \"QWERTY\" in txt:\n",
        "  print(\"Yes, 'QWERTY' is present.\")"
      ],
      "metadata": {
        "id": "yiTBHHC_HuQv"
      },
      "execution_count": null,
      "outputs": []
    },
    {
      "cell_type": "code",
      "source": [
        "txt = \"The best things in life are free!qwert yuiop wasd\"\n",
        "if \"QWERTY\" in txt:\n",
        "  print(\"Yes, 'QWERTY' is present.\")"
      ],
      "metadata": {
        "id": "UVGTgcfvHws_"
      },
      "execution_count": null,
      "outputs": []
    },
    {
      "cell_type": "markdown",
      "source": [
        "Negative Indexing"
      ],
      "metadata": {
        "id": "ZLJ5sRrUHy5-"
      }
    },
    {
      "cell_type": "code",
      "source": [
        "b = \"Hello, Shine!\"\n",
        "print(b[-5:-2])\n",
        "# -2 not included"
      ],
      "metadata": {
        "id": "YCy9pb8DH0vX"
      },
      "execution_count": null,
      "outputs": []
    },
    {
      "cell_type": "markdown",
      "source": [
        "Python - Modify Strings\n",
        "\n",
        "The upper() method returns the string in upper case:\n",
        "\n",
        "The lower() method returns the string in lower case"
      ],
      "metadata": {
        "id": "IIOQ6v52H3i-"
      }
    },
    {
      "cell_type": "code",
      "source": [
        "b = \"Hello, Shine!\"\n",
        "print(b.upper())"
      ],
      "metadata": {
        "id": "UywBiOc-H6we"
      },
      "execution_count": null,
      "outputs": []
    },
    {
      "cell_type": "markdown",
      "source": [
        "Remove Whitespace with strip() method\n",
        "\n",
        "The strip() method removes any whitespace from the beginning or the end"
      ],
      "metadata": {
        "id": "sDeYxEDzH9it"
      }
    },
    {
      "cell_type": "code",
      "source": [
        "b = \" Hello, Shine! \"\n",
        "print(b.strip())"
      ],
      "metadata": {
        "id": "CKV-Y11MH_8P"
      },
      "execution_count": null,
      "outputs": []
    },
    {
      "cell_type": "markdown",
      "source": [
        "The replace()method replaces a string with another string"
      ],
      "metadata": {
        "id": "vsKOD6lGICzN"
      }
    },
    {
      "cell_type": "markdown",
      "source": [
        "seperator"
      ],
      "metadata": {
        "id": "ndXSHv6hIE7u"
      }
    },
    {
      "cell_type": "code",
      "source": [
        "b = \" Hello, Shine! \"\n",
        "print(b.replace(\"o\", \"w\"))"
      ],
      "metadata": {
        "id": "WOBGLul4IHyF"
      },
      "execution_count": null,
      "outputs": []
    },
    {
      "cell_type": "code",
      "source": [
        "b = \" Hello, Shine! \"\n",
        "print(b.split(\",\"))"
      ],
      "metadata": {
        "id": "R-WbBpvXIOAO"
      },
      "execution_count": null,
      "outputs": []
    },
    {
      "cell_type": "code",
      "source": [
        "b = \" Hello, Shine! \"\n",
        "print(b.split(\"D\"))"
      ],
      "metadata": {
        "id": "exbuAVlLISqn"
      },
      "execution_count": null,
      "outputs": []
    },
    {
      "cell_type": "markdown",
      "source": [
        "String Concatenation:To concatenate, or combine, two strings you can use the + operator."
      ],
      "metadata": {
        "id": "FhmoygPfIUCX"
      }
    },
    {
      "cell_type": "code",
      "source": [
        "a = \"Hello\"\n",
        "b = \" , \"\n",
        "c = \"Shine\"\n",
        "d = a + b + c\n",
        "print(d)"
      ],
      "metadata": {
        "id": "rE1cYxfJIWRm"
      },
      "execution_count": null,
      "outputs": []
    },
    {
      "cell_type": "markdown",
      "source": [
        "Python - Format - Strings"
      ],
      "metadata": {
        "id": "B3jT0pmOIalt"
      }
    },
    {
      "cell_type": "code",
      "source": [
        "age = 18\n",
        "txt = \"My name is Shine, and I am {}\"\n",
        "print(txt.format(age))"
      ],
      "metadata": {
        "id": "2CylUwU3IbE4"
      },
      "execution_count": null,
      "outputs": []
    },
    {
      "cell_type": "code",
      "source": [
        "quantity = 6\n",
        "itemno = 867\n",
        "price = 29.95\n",
        "myorder = \"I want {2} pieces of item {0} for {1} dollars.\"\n",
        "print(myorder.format(quantity, itemno, price))"
      ],
      "metadata": {
        "id": "Ei3od0W0IgzV"
      },
      "execution_count": null,
      "outputs": []
    },
    {
      "cell_type": "markdown",
      "source": [
        "String Methods"
      ],
      "metadata": {
        "id": "4uiBSudzIikV"
      }
    },
    {
      "cell_type": "code",
      "source": [
        "txt = \"hello, and welcome to KUNSHAN!.\"\n",
        "\n",
        "x = txt.capitalize()\n",
        "\n",
        "print (x)"
      ],
      "metadata": {
        "id": "r68ufv7oIkfG"
      },
      "execution_count": null,
      "outputs": []
    },
    {
      "cell_type": "code",
      "source": [
        "txt = \"Hello, And Welcome To KUNSHAN!\"\n",
        "\n",
        "x = txt.casefold()\n",
        "\n",
        "print(x)"
      ],
      "metadata": {
        "id": "HKS8YReDIk7-"
      },
      "execution_count": null,
      "outputs": []
    }
  ]
}